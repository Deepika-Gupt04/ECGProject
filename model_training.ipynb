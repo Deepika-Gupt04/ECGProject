{
 "cells": [
  {
   "cell_type": "code",
   "execution_count": 1,
   "id": "723d85f9",
   "metadata": {},
   "outputs": [],
   "source": [
    "import numpy as np\n",
    "import torch\n",
    "import torch.nn as nn\n",
    "import torch.optim as optim\n",
    "from torch.utils.data import DataLoader, TensorDataset\n",
    "import matplotlib.pyplot as plt\n",
    "import os"
   ]
  },
  {
   "cell_type": "code",
   "execution_count": 2,
   "id": "5b7cb62f",
   "metadata": {},
   "outputs": [
    {
     "name": "stdout",
     "output_type": "stream",
     "text": [
      "Loaded data shape: (25385, 256)\n"
     ]
    }
   ],
   "source": [
    "# Load preprocessed ECG windows\n",
    "data = np.load(\"ecg_windows_256.npy\")  # shape: (num_samples, 256)\n",
    "print(\"Loaded data shape:\", data.shape)\n",
    "\n",
    "# Convert to PyTorch tensors\n",
    "X = torch.tensor(data, dtype=torch.float32)\n",
    "\n",
    "# Reshape for model: (batch, channels=1, length)\n",
    "X = X.unsqueeze(1)\n",
    "\n",
    "# Create DataLoader\n",
    "batch_size = 128\n",
    "dataset = TensorDataset(X)\n",
    "dataloader = DataLoader(dataset, batch_size=batch_size, shuffle=True)"
   ]
  },
  {
   "cell_type": "code",
   "execution_count": 3,
   "id": "65be134a",
   "metadata": {},
   "outputs": [],
   "source": [
    "import math\n",
    "\n",
    "class SinusoidalTimestepEmbedding(nn.Module):\n",
    "    def __init__(self, embedding_dim, max_period=10000):\n",
    "        super().__init__()\n",
    "        self.embedding_dim = embedding_dim\n",
    "        self.max_period = max_period\n",
    "\n",
    "    def forward(self, timesteps):\n",
    "        # Input: (batch_size,) of timestep indices\n",
    "        half_dim = self.embedding_dim // 2\n",
    "        freqs = torch.exp(-math.log(self.max_period) * torch.arange(0, half_dim, dtype=torch.float32) / half_dim).to(timesteps.device)\n",
    "        args = timesteps[:, None].float() * freqs[None, :]\n",
    "        embedding = torch.cat([torch.sin(args), torch.cos(args)], dim=-1)\n",
    "        return embedding  # shape: (batch_size, embedding_dim)"
   ]
  },
  {
   "cell_type": "code",
   "execution_count": 4,
   "id": "6cafd424",
   "metadata": {},
   "outputs": [],
   "source": [
    "class Simple1DUNet(nn.Module):\n",
# takes noisy sample with a timestep and returns sample shaped output
    "    def __init__(self, channels=64, time_emb_dim=128):\n",
    "        super().__init__()\n",
    "        self.time_embedding = SinusoidalTimestepEmbedding(time_emb_dim)\n",
    "        self.time_mlp = nn.Sequential(\n",
    "            nn.Linear(time_emb_dim, channels),\n",
    "            nn.ReLU()\n",
    "        )\n",
    "        self.encoder = nn.Sequential(\n",
    "            nn.Conv1d(1, channels, kernel_size=3, padding=1),\n",
    "            nn.ReLU(),\n",
    "            nn.Conv1d(channels, channels, kernel_size=3, padding=1),\n",
    "            nn.ReLU()\n",
    "        )\n",
    "        self.decoder = nn.Sequential(\n",
    "            nn.Conv1d(channels, channels, kernel_size=3, padding=1),\n",
    "            nn.ReLU(),\n",
    "            nn.Conv1d(channels, 1, kernel_size=3, padding=1)\n",
    "        )\n",
    "\n",
    "    def forward(self, x, t):\n",
    "        t_emb = self.time_embedding(t)  # (batch_size, time_emb_dim)\n",
    "        t_emb = self.time_mlp(t_emb)    # (batch_size, channels)\n",
    "        t_emb = t_emb[:, :, None]       # reshape to (batch_size, channels, 1)\n",
    "\n",
    "        x = self.encoder(x)\n",
    "        x = x + t_emb  # add timestep embedding as bias\n",
    "        x = self.decoder(x)\n",
    "        return x"
   ]
  },
  {
   "cell_type": "code",
   "execution_count": 5,
   "id": "7529c1b7",
   "metadata": {},
   "outputs": [],
   "source": [
    "def linear_beta_schedule(timesteps):\n",
    "    return torch.linspace(1e-4, 0.02, timesteps)\n",
    "\n",
    "T = 1000  # diffusion steps\n",
    "betas = linear_beta_schedule(T)\n",
    "alphas = 1. - betas\n",
    "alphas_cumprod = torch.cumprod(alphas, axis=0)\n",
    "\n",
    "def q_sample(x_start, t, noise=None):\n",
    "    if noise is None:\n",
    "        noise = torch.randn_like(x_start)\n",
    "    sqrt_alphas_cumprod = torch.sqrt(alphas_cumprod[t])[:, None, None]\n",
    "    sqrt_one_minus_alphas = torch.sqrt(1 - alphas_cumprod[t])[:, None, None]\n",
    "    return sqrt_alphas_cumprod * x_start + sqrt_one_minus_alphas * noise"
   ]
  },
  {
   "cell_type": "code",
   "execution_count": 6,
   "id": "5827e277",
   "metadata": {
    "scrolled": true
   },
   "outputs": [
    {
     "name": "stdout",
     "output_type": "stream",
     "text": [
      "Epoch 1 Loss: 0.3685\n",
      "Epoch 2 Loss: 0.1014\n",
      "Epoch 3 Loss: 0.0641\n",
      "Epoch 4 Loss: 0.0446\n",
      "Epoch 5 Loss: 0.0359\n",
      "Epoch 6 Loss: 0.0279\n",
      "Epoch 7 Loss: 0.0232\n",
      "Epoch 8 Loss: 0.0218\n",
      "Epoch 9 Loss: 0.0181\n",
      "Epoch 10 Loss: 0.0163\n"
     ]
    }
   ],
   "source": [
    "device = torch.device(\"cuda\" if torch.cuda.is_available() else \"cpu\")\n",
    "\n",
    "model = Simple1DUNet().to(device)\n",
    "optimizer = optim.Adam(model.parameters(), lr=1e-4)\n",
    "loss_fn = nn.MSELoss()\n",
    "\n",
    "epochs = 10\n",
    "\n",
    "for epoch in range(epochs):\n",
    "    model.train()\n",
    "    epoch_loss = 0\n",
    "    for batch in dataloader:\n",
    "        x = batch[0].to(device)\n",
    "        t = torch.randint(0, T, (x.size(0),), device=device).long()\n",
    "        noise = torch.randn_like(x)\n",
    "        x_noisy = q_sample(x, t, noise)\n",
    "        \n",
    "        predicted_noise = model(x_noisy, t)\n",
    "        loss = loss_fn(noise, predicted_noise)\n",
    "\n",
    "        optimizer.zero_grad()\n",
    "        loss.backward()\n",
    "        optimizer.step()\n",
    "\n",
    "        epoch_loss += loss.item()\n",
    "    \n",
    "    print(f\"Epoch {epoch+1} Loss: {epoch_loss/len(dataloader):.4f}\")"
   ]
  },
  {
   "cell_type": "code",
   "execution_count": 7,
   "id": "c1f33f15",
   "metadata": {},
   "outputs": [
    {
     "name": "stdout",
     "output_type": "stream",
     "text": [
      "Model saved!\n"
     ]
    }
   ],
   "source": [
    "torch.save(model.state_dict(), \"diffusion_ecg_model.pth\")\n",
    "print(\"Model saved!\")"
   ]
  }
 ],
 "metadata": {
  "kernelspec": {
   "display_name": "Python 3 (ipykernel)",
   "language": "python",
   "name": "python3"
  },
  "language_info": {
   "codemirror_mode": {
    "name": "ipython",
    "version": 3
   },
   "file_extension": ".py",
   "mimetype": "text/x-python",
   "name": "python",
   "nbconvert_exporter": "python",
   "pygments_lexer": "ipython3",
   "version": "3.10.9"
  }
 },
 "nbformat": 4,
 "nbformat_minor": 5
}
